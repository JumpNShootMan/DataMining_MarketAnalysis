{
  "nbformat": 4,
  "nbformat_minor": 0,
  "metadata": {
    "colab": {
      "name": "PC2 Data Mining.ipynb",
      "provenance": [],
      "collapsed_sections": [],
      "authorship_tag": "ABX9TyPotl4zkTPCW0ftWxWH9ApV",
      "include_colab_link": true
    },
    "kernelspec": {
      "name": "python3",
      "display_name": "Python 3"
    }
  },
  "cells": [
    {
      "cell_type": "markdown",
      "metadata": {
        "id": "view-in-github",
        "colab_type": "text"
      },
      "source": [
        "<a href=\"https://colab.research.google.com/github/JumpNShootMan/DataMining_MarketAnalysis/blob/main/PC2_Data_Mining.ipynb\" target=\"_parent\"><img src=\"https://colab.research.google.com/assets/colab-badge.svg\" alt=\"Open In Colab\"/></a>"
      ]
    },
    {
      "cell_type": "markdown",
      "metadata": {
        "id": "uEh6IkclefGA"
      },
      "source": [
        "# PC2 Data Mining\n",
        "## By: Daniel Núñez Robinson"
      ]
    },
    {
      "cell_type": "markdown",
      "metadata": {
        "id": "xUk4skpEjBEP"
      },
      "source": [
        "### Import .zip files from drive and extract the datasets"
      ]
    },
    {
      "cell_type": "code",
      "metadata": {
        "id": "Uabqrlcsi_yi",
        "outputId": "6971b25d-e6d4-4644-b539-51e84e731b88",
        "colab": {
          "base_uri": "https://localhost:8080/"
        }
      },
      "source": [
        "from google.colab import drive\n",
        "import zipfile\n",
        "import pandas as pd\n",
        "drive.mount(\"/content/drive/\")"
      ],
      "execution_count": null,
      "outputs": [
        {
          "output_type": "stream",
          "text": [
            "Drive already mounted at /content/drive/; to attempt to forcibly remount, call drive.mount(\"/content/drive/\", force_remount=True).\n"
          ],
          "name": "stdout"
        }
      ]
    },
    {
      "cell_type": "markdown",
      "metadata": {
        "id": "4wZk6F_54pqx"
      },
      "source": [
        "## Important...\n",
        "The dataset path needs to be set manually. I couldn't find a way to upload it to GitHub since the size was too big on the order dataset.\n",
        "https://drive.google.com/drive/folders/1SRMY1hM3fFPyW88L1lLDVwCiqvlEMuAG?usp=sharing"
      ]
    },
    {
      "cell_type": "code",
      "metadata": {
        "id": "orvfML6-eQTX"
      },
      "source": [
        "base = \"/content/drive/My Drive/2020-2/Data_Mining/PC2/\"\n",
        "\n",
        "zipProducts = zipfile.ZipFile(\"/content/drive/My Drive/2020-2/Data_Mining/PC2/products.csv.zip\",\"r\")\n",
        "zipProducts.extractall()\n",
        "\n",
        "zipPrior = zipfile.ZipFile(\"/content/drive/My Drive/2020-2/Data_Mining/PC2/order_products__prior.csv.zip\",\"r\")\n",
        "zipPrior.extractall()"
      ],
      "execution_count": null,
      "outputs": []
    },
    {
      "cell_type": "code",
      "metadata": {
        "id": "v99D7Z1nnNHD"
      },
      "source": [
        "dataProd = pd.read_csv(\"products.csv\")\n",
        "dataOrder = pd.read_csv(\"order_products__prior.csv\")"
      ],
      "execution_count": null,
      "outputs": []
    },
    {
      "cell_type": "markdown",
      "metadata": {
        "id": "EfhdvlgapVO0"
      },
      "source": [
        "### Read the datasets"
      ]
    },
    {
      "cell_type": "code",
      "metadata": {
        "id": "lDi6tDPbk9r1",
        "outputId": "59a98bce-90dd-4f86-932a-2cbd4ba664fc",
        "colab": {
          "base_uri": "https://localhost:8080/",
          "height": 204
        }
      },
      "source": [
        "dataProd.head()"
      ],
      "execution_count": null,
      "outputs": [
        {
          "output_type": "execute_result",
          "data": {
            "text/html": [
              "<div>\n",
              "<style scoped>\n",
              "    .dataframe tbody tr th:only-of-type {\n",
              "        vertical-align: middle;\n",
              "    }\n",
              "\n",
              "    .dataframe tbody tr th {\n",
              "        vertical-align: top;\n",
              "    }\n",
              "\n",
              "    .dataframe thead th {\n",
              "        text-align: right;\n",
              "    }\n",
              "</style>\n",
              "<table border=\"1\" class=\"dataframe\">\n",
              "  <thead>\n",
              "    <tr style=\"text-align: right;\">\n",
              "      <th></th>\n",
              "      <th>product_id</th>\n",
              "      <th>product_name</th>\n",
              "      <th>aisle_id</th>\n",
              "      <th>department_id</th>\n",
              "    </tr>\n",
              "  </thead>\n",
              "  <tbody>\n",
              "    <tr>\n",
              "      <th>0</th>\n",
              "      <td>1</td>\n",
              "      <td>Chocolate Sandwich Cookies</td>\n",
              "      <td>61</td>\n",
              "      <td>19</td>\n",
              "    </tr>\n",
              "    <tr>\n",
              "      <th>1</th>\n",
              "      <td>2</td>\n",
              "      <td>All-Seasons Salt</td>\n",
              "      <td>104</td>\n",
              "      <td>13</td>\n",
              "    </tr>\n",
              "    <tr>\n",
              "      <th>2</th>\n",
              "      <td>3</td>\n",
              "      <td>Robust Golden Unsweetened Oolong Tea</td>\n",
              "      <td>94</td>\n",
              "      <td>7</td>\n",
              "    </tr>\n",
              "    <tr>\n",
              "      <th>3</th>\n",
              "      <td>4</td>\n",
              "      <td>Smart Ones Classic Favorites Mini Rigatoni Wit...</td>\n",
              "      <td>38</td>\n",
              "      <td>1</td>\n",
              "    </tr>\n",
              "    <tr>\n",
              "      <th>4</th>\n",
              "      <td>5</td>\n",
              "      <td>Green Chile Anytime Sauce</td>\n",
              "      <td>5</td>\n",
              "      <td>13</td>\n",
              "    </tr>\n",
              "  </tbody>\n",
              "</table>\n",
              "</div>"
            ],
            "text/plain": [
              "   product_id  ... department_id\n",
              "0           1  ...            19\n",
              "1           2  ...            13\n",
              "2           3  ...             7\n",
              "3           4  ...             1\n",
              "4           5  ...            13\n",
              "\n",
              "[5 rows x 4 columns]"
            ]
          },
          "metadata": {
            "tags": []
          },
          "execution_count": 18
        }
      ]
    },
    {
      "cell_type": "code",
      "metadata": {
        "id": "-zSEI5IanuHg",
        "outputId": "e704b699-d051-4922-de80-b001d3cb0acd",
        "colab": {
          "base_uri": "https://localhost:8080/",
          "height": 204
        }
      },
      "source": [
        "dataOrder.head()"
      ],
      "execution_count": null,
      "outputs": [
        {
          "output_type": "execute_result",
          "data": {
            "text/html": [
              "<div>\n",
              "<style scoped>\n",
              "    .dataframe tbody tr th:only-of-type {\n",
              "        vertical-align: middle;\n",
              "    }\n",
              "\n",
              "    .dataframe tbody tr th {\n",
              "        vertical-align: top;\n",
              "    }\n",
              "\n",
              "    .dataframe thead th {\n",
              "        text-align: right;\n",
              "    }\n",
              "</style>\n",
              "<table border=\"1\" class=\"dataframe\">\n",
              "  <thead>\n",
              "    <tr style=\"text-align: right;\">\n",
              "      <th></th>\n",
              "      <th>order_id</th>\n",
              "      <th>product_id</th>\n",
              "      <th>add_to_cart_order</th>\n",
              "      <th>reordered</th>\n",
              "    </tr>\n",
              "  </thead>\n",
              "  <tbody>\n",
              "    <tr>\n",
              "      <th>0</th>\n",
              "      <td>2</td>\n",
              "      <td>33120</td>\n",
              "      <td>1</td>\n",
              "      <td>1</td>\n",
              "    </tr>\n",
              "    <tr>\n",
              "      <th>1</th>\n",
              "      <td>2</td>\n",
              "      <td>28985</td>\n",
              "      <td>2</td>\n",
              "      <td>1</td>\n",
              "    </tr>\n",
              "    <tr>\n",
              "      <th>2</th>\n",
              "      <td>2</td>\n",
              "      <td>9327</td>\n",
              "      <td>3</td>\n",
              "      <td>0</td>\n",
              "    </tr>\n",
              "    <tr>\n",
              "      <th>3</th>\n",
              "      <td>2</td>\n",
              "      <td>45918</td>\n",
              "      <td>4</td>\n",
              "      <td>1</td>\n",
              "    </tr>\n",
              "    <tr>\n",
              "      <th>4</th>\n",
              "      <td>2</td>\n",
              "      <td>30035</td>\n",
              "      <td>5</td>\n",
              "      <td>0</td>\n",
              "    </tr>\n",
              "  </tbody>\n",
              "</table>\n",
              "</div>"
            ],
            "text/plain": [
              "   order_id  product_id  add_to_cart_order  reordered\n",
              "0         2       33120                  1          1\n",
              "1         2       28985                  2          1\n",
              "2         2        9327                  3          0\n",
              "3         2       45918                  4          1\n",
              "4         2       30035                  5          0"
            ]
          },
          "metadata": {
            "tags": []
          },
          "execution_count": 19
        }
      ]
    },
    {
      "cell_type": "markdown",
      "metadata": {
        "id": "ZcG7cBwNpYSL"
      },
      "source": [
        "## Replicate original author's work"
      ]
    },
    {
      "cell_type": "code",
      "metadata": {
        "id": "7-qYOkIenvJf",
        "outputId": "c82c15cf-8ee3-4824-ca3a-f28217980813",
        "colab": {
          "base_uri": "https://localhost:8080/"
        }
      },
      "source": [
        "import numpy as np\n",
        "from itertools import combinations, groupby\n",
        "from collections import Counter\n",
        "\n",
        "# Sample data\n",
        "order = np.array([[1,'apple'], [1,'egg'], [1,'milk'], [2,'egg'], [2,'milk']], dtype=object)\n",
        "\n",
        "# Generator that yields item pairs, one at a time\n",
        "def get_item_pairs(order_item):\n",
        "    \n",
        "    # For each order, generate a list of items in that order\n",
        "    for order_id, order_object in groupby(dataOrder, lambda x: x[0]):\n",
        "        item_list = [item[1] for item in order_object]      \n",
        "    \n",
        "        # For each item list, generate item pairs, one at a time\n",
        "        for item_pair in combinations(item_list, 2):\n",
        "            yield item_pair                                      \n",
        "\n",
        "\n",
        "# Counter iterates through the item pairs returned by our generator and keeps a tally of their occurrence\n",
        "Counter(get_item_pairs(dataOrder))"
      ],
      "execution_count": null,
      "outputs": [
        {
          "output_type": "execute_result",
          "data": {
            "text/plain": [
              "Counter({('apple', 'egg'): 1, ('apple', 'milk'): 1, ('egg', 'milk'): 2})"
            ]
          },
          "metadata": {
            "tags": []
          },
          "execution_count": 36
        }
      ]
    },
    {
      "cell_type": "code",
      "metadata": {
        "id": "H9xvUXXlorff"
      },
      "source": [
        "import pandas as pd\n",
        "import numpy as np\n",
        "import sys\n",
        "from itertools import combinations, groupby\n",
        "from collections import Counter\n",
        "from IPython.display import display"
      ],
      "execution_count": null,
      "outputs": []
    },
    {
      "cell_type": "markdown",
      "metadata": {
        "id": "CT7Aurl2psm_"
      },
      "source": [
        "#### Order data"
      ]
    },
    {
      "cell_type": "code",
      "metadata": {
        "id": "MxX8028Zqayg"
      },
      "source": [
        "# Function that returns the size of an object in MB\n",
        "def size(obj):\n",
        "    return \"{0:.2f} MB\".format(sys.getsizeof(obj) / (1000 * 1000))"
      ],
      "execution_count": null,
      "outputs": []
    },
    {
      "cell_type": "code",
      "metadata": {
        "id": "6uOiBsWRowkD",
        "outputId": "30ca5e05-bf28-4f98-a724-cbea3f66955e",
        "colab": {
          "base_uri": "https://localhost:8080/",
          "height": 221
        }
      },
      "source": [
        "print('dataOrder -- dimensions: {0};   size: {1}'.format(dataOrder.shape, size(dataOrder)))\n",
        "display(dataOrder.head())"
      ],
      "execution_count": null,
      "outputs": [
        {
          "output_type": "stream",
          "text": [
            "dataOrder -- dimensions: (32434489, 4);   size: 1037.90 MB\n"
          ],
          "name": "stdout"
        },
        {
          "output_type": "display_data",
          "data": {
            "text/html": [
              "<div>\n",
              "<style scoped>\n",
              "    .dataframe tbody tr th:only-of-type {\n",
              "        vertical-align: middle;\n",
              "    }\n",
              "\n",
              "    .dataframe tbody tr th {\n",
              "        vertical-align: top;\n",
              "    }\n",
              "\n",
              "    .dataframe thead th {\n",
              "        text-align: right;\n",
              "    }\n",
              "</style>\n",
              "<table border=\"1\" class=\"dataframe\">\n",
              "  <thead>\n",
              "    <tr style=\"text-align: right;\">\n",
              "      <th></th>\n",
              "      <th>order_id</th>\n",
              "      <th>product_id</th>\n",
              "      <th>add_to_cart_order</th>\n",
              "      <th>reordered</th>\n",
              "    </tr>\n",
              "  </thead>\n",
              "  <tbody>\n",
              "    <tr>\n",
              "      <th>0</th>\n",
              "      <td>2</td>\n",
              "      <td>33120</td>\n",
              "      <td>1</td>\n",
              "      <td>1</td>\n",
              "    </tr>\n",
              "    <tr>\n",
              "      <th>1</th>\n",
              "      <td>2</td>\n",
              "      <td>28985</td>\n",
              "      <td>2</td>\n",
              "      <td>1</td>\n",
              "    </tr>\n",
              "    <tr>\n",
              "      <th>2</th>\n",
              "      <td>2</td>\n",
              "      <td>9327</td>\n",
              "      <td>3</td>\n",
              "      <td>0</td>\n",
              "    </tr>\n",
              "    <tr>\n",
              "      <th>3</th>\n",
              "      <td>2</td>\n",
              "      <td>45918</td>\n",
              "      <td>4</td>\n",
              "      <td>1</td>\n",
              "    </tr>\n",
              "    <tr>\n",
              "      <th>4</th>\n",
              "      <td>2</td>\n",
              "      <td>30035</td>\n",
              "      <td>5</td>\n",
              "      <td>0</td>\n",
              "    </tr>\n",
              "  </tbody>\n",
              "</table>\n",
              "</div>"
            ],
            "text/plain": [
              "   order_id  product_id  add_to_cart_order  reordered\n",
              "0         2       33120                  1          1\n",
              "1         2       28985                  2          1\n",
              "2         2        9327                  3          0\n",
              "3         2       45918                  4          1\n",
              "4         2       30035                  5          0"
            ]
          },
          "metadata": {
            "tags": []
          }
        }
      ]
    },
    {
      "cell_type": "markdown",
      "metadata": {
        "id": "xnOfPLvirBrK"
      },
      "source": [
        "#### Change format"
      ]
    },
    {
      "cell_type": "code",
      "metadata": {
        "id": "UsQAD6ZKp1Us",
        "outputId": "8690feff-8aa4-4dcd-8bb4-37eb7f1b4b1a",
        "colab": {
          "base_uri": "https://localhost:8080/",
          "height": 238
        }
      },
      "source": [
        "# Convert from DataFrame to a Series, with order_id as index and item_id as value\n",
        "dataOrder = dataOrder.set_index('order_id')['product_id'].rename('item_id')\n",
        "display(dataOrder.head(10))\n",
        "type(dataOrder)"
      ],
      "execution_count": null,
      "outputs": [
        {
          "output_type": "display_data",
          "data": {
            "text/plain": [
              "order_id\n",
              "2    33120\n",
              "2    28985\n",
              "2     9327\n",
              "2    45918\n",
              "2    30035\n",
              "2    17794\n",
              "2    40141\n",
              "2     1819\n",
              "2    43668\n",
              "3    33754\n",
              "Name: item_id, dtype: int64"
            ]
          },
          "metadata": {
            "tags": []
          }
        },
        {
          "output_type": "execute_result",
          "data": {
            "text/plain": [
              "pandas.core.series.Series"
            ]
          },
          "metadata": {
            "tags": []
          },
          "execution_count": 39
        }
      ]
    },
    {
      "cell_type": "code",
      "metadata": {
        "id": "y6Gq6LMRqmF6",
        "outputId": "5fe2b091-1898-470c-f193-630c9fa31e67",
        "colab": {
          "base_uri": "https://localhost:8080/"
        }
      },
      "source": [
        "print('dimensions: {0};   size: {1};   unique_orders: {2};   unique_items: {3}'\n",
        "      .format(dataOrder.shape, size(dataOrder), len(dataOrder.index.unique()), len(dataOrder.value_counts())))"
      ],
      "execution_count": null,
      "outputs": [
        {
          "output_type": "stream",
          "text": [
            "dimensions: (32434489,);   size: 518.95 MB;   unique_orders: 3214874;   unique_items: 49677\n"
          ],
          "name": "stdout"
        }
      ]
    },
    {
      "cell_type": "markdown",
      "metadata": {
        "id": "Y3sEe298reGC"
      },
      "source": [
        "#### Association Rules Function"
      ]
    },
    {
      "cell_type": "markdown",
      "metadata": {
        "id": "avSm9fI8sCfR"
      },
      "source": [
        "##### Helper Function"
      ]
    },
    {
      "cell_type": "code",
      "metadata": {
        "id": "QZPemEgjsBLH"
      },
      "source": [
        "# Returns frequency counts for items and item pairs\n",
        "def freq(iterable):\n",
        "    if type(iterable) == pd.core.series.Series:\n",
        "        return iterable.value_counts().rename(\"freq\")\n",
        "    else: \n",
        "        return pd.Series(Counter(iterable)).rename(\"freq\")\n",
        "\n",
        "    \n",
        "# Returns number of unique orders\n",
        "def order_count(order_item):\n",
        "    return len(set(order_item.index))\n",
        "\n",
        "\n",
        "# Returns generator that yields item pairs, one at a time\n",
        "def get_item_pairs(order_item):\n",
        "    order_item = order_item.reset_index().values\n",
        "    for order_id, order_object in groupby(order_item, lambda x: x[0]):\n",
        "        item_list = [item[1] for item in order_object]\n",
        "              \n",
        "        for item_pair in combinations(item_list, 2):\n",
        "            yield item_pair\n",
        "            \n",
        "\n",
        "# Returns frequency and support associated with item\n",
        "def merge_item_stats(item_pairs, item_stats):\n",
        "    return (item_pairs\n",
        "                .merge(item_stats.rename(columns={'freq': 'freqA', 'support': 'supportA'}), left_on='item_A', right_index=True)\n",
        "                .merge(item_stats.rename(columns={'freq': 'freqB', 'support': 'supportB'}), left_on='item_B', right_index=True))\n",
        "\n",
        "\n",
        "# Returns name associated with item\n",
        "def merge_item_name(rules, item_name):\n",
        "    columns = ['itemA','itemB','freqAB','supportAB','freqA','supportA','freqB','supportB', \n",
        "               'confidenceAtoB','confidenceBtoA','lift']\n",
        "    rules = (rules\n",
        "                .merge(item_name.rename(columns={'item_name': 'itemA'}), left_on='item_A', right_on='item_id')\n",
        "                .merge(item_name.rename(columns={'item_name': 'itemB'}), left_on='item_B', right_on='item_id'))\n",
        "    return rules[columns]  "
      ],
      "execution_count": null,
      "outputs": []
    },
    {
      "cell_type": "markdown",
      "metadata": {
        "id": "Er30X0_LsFR5"
      },
      "source": [
        "##### Association rules function"
      ]
    },
    {
      "cell_type": "code",
      "metadata": {
        "id": "jJ78B3hZrb3b"
      },
      "source": [
        "def association_rules(order_item, min_support):\n",
        "\n",
        "    print(\"Starting order_item: {:22d}\".format(len(order_item)))\n",
        "\n",
        "\n",
        "    # Calculate item frequency and support\n",
        "    item_stats             = freq(order_item).to_frame(\"freq\")\n",
        "    item_stats['support']  = item_stats['freq'] / order_count(order_item) * 100\n",
        "\n",
        "\n",
        "    # Filter from order_item items below min support \n",
        "    qualifying_items       = item_stats[item_stats['support'] >= min_support].index\n",
        "    order_item             = order_item[order_item.isin(qualifying_items)]\n",
        "\n",
        "    print(\"Items with support >= {}: {:15d}\".format(min_support, len(qualifying_items)))\n",
        "    print(\"Remaining order_item: {:21d}\".format(len(order_item)))\n",
        "\n",
        "\n",
        "    # Filter from order_item orders with less than 2 items\n",
        "    order_size             = freq(order_item.index)\n",
        "    qualifying_orders      = order_size[order_size >= 2].index\n",
        "    order_item             = order_item[order_item.index.isin(qualifying_orders)]\n",
        "\n",
        "    print(\"Remaining orders with 2+ items: {:11d}\".format(len(qualifying_orders)))\n",
        "    print(\"Remaining order_item: {:21d}\".format(len(order_item)))\n",
        "\n",
        "\n",
        "    # Recalculate item frequency and support\n",
        "    item_stats             = freq(order_item).to_frame(\"freq\")\n",
        "    item_stats['support']  = item_stats['freq'] / order_count(order_item) * 100\n",
        "\n",
        "\n",
        "    # Get item pairs generator\n",
        "    item_pair_gen          = get_item_pairs(order_item)\n",
        "\n",
        "\n",
        "    # Calculate item pair frequency and support\n",
        "    item_pairs              = freq(item_pair_gen).to_frame(\"freqAB\")\n",
        "    item_pairs['supportAB'] = item_pairs['freqAB'] / len(qualifying_orders) * 100\n",
        "\n",
        "    print(\"Item pairs: {:31d}\".format(len(item_pairs)))\n",
        "\n",
        "\n",
        "    # Filter from item_pairs those below min support\n",
        "    item_pairs              = item_pairs[item_pairs['supportAB'] >= min_support]\n",
        "\n",
        "    print(\"Item pairs with support >= {}: {:10d}\\n\".format(min_support, len(item_pairs)))\n",
        "\n",
        "\n",
        "    # Create table of association rules and compute relevant metrics\n",
        "    item_pairs = item_pairs.reset_index().rename(columns={'level_0': 'item_A', 'level_1': 'item_B'})\n",
        "    item_pairs = merge_item_stats(item_pairs, item_stats)\n",
        "    \n",
        "    item_pairs['confidenceAtoB'] = item_pairs['supportAB'] / item_pairs['supportA']\n",
        "    item_pairs['confidenceBtoA'] = item_pairs['supportAB'] / item_pairs['supportB']\n",
        "    item_pairs['lift']           = item_pairs['supportAB'] / (item_pairs['supportA'] * item_pairs['supportB'])\n",
        "    \n",
        "    \n",
        "    # Return association rules sorted by lift in descending order\n",
        "    return item_pairs.sort_values('lift', ascending=False)"
      ],
      "execution_count": null,
      "outputs": []
    },
    {
      "cell_type": "markdown",
      "metadata": {
        "id": "di5eil44tInJ"
      },
      "source": [
        "#### Association Rules Mining"
      ]
    },
    {
      "cell_type": "code",
      "metadata": {
        "id": "Q8hiFRHesJoO",
        "outputId": "1dcb0377-684a-40fc-ef88-32b6ed606d57",
        "colab": {
          "base_uri": "https://localhost:8080/"
        }
      },
      "source": [
        "#%%time\n",
        "rules = association_rules(dataOrder, 0.01) "
      ],
      "execution_count": null,
      "outputs": [
        {
          "output_type": "stream",
          "text": [
            "Starting order_item:               32434489\n",
            "Items with support >= 0.01:           10906\n",
            "Remaining order_item:              29843570\n",
            "Remaining orders with 2+ items:     3013325\n",
            "Remaining order_item:              29662716\n",
            "Item pairs:                        30622410\n",
            "Item pairs with support >= 0.01:      48751\n",
            "\n"
          ],
          "name": "stdout"
        }
      ]
    },
    {
      "cell_type": "code",
      "metadata": {
        "id": "VSKbTE4_tLm2",
        "outputId": "b8eb77b3-1410-4905-a0b0-ef30e6184f73",
        "colab": {
          "base_uri": "https://localhost:8080/",
          "height": 419
        }
      },
      "source": [
        "# Replace item ID with item name and display association rules\n",
        "item_name   = pd.read_csv('products.csv')\n",
        "item_name   = item_name.rename(columns={'product_id':'item_id', 'product_name':'item_name'})\n",
        "rules_final = merge_item_name(rules, item_name).sort_values('lift', ascending=False)\n",
        "display(rules_final)"
      ],
      "execution_count": null,
      "outputs": [
        {
          "output_type": "display_data",
          "data": {
            "text/html": [
              "<div>\n",
              "<style scoped>\n",
              "    .dataframe tbody tr th:only-of-type {\n",
              "        vertical-align: middle;\n",
              "    }\n",
              "\n",
              "    .dataframe tbody tr th {\n",
              "        vertical-align: top;\n",
              "    }\n",
              "\n",
              "    .dataframe thead th {\n",
              "        text-align: right;\n",
              "    }\n",
              "</style>\n",
              "<table border=\"1\" class=\"dataframe\">\n",
              "  <thead>\n",
              "    <tr style=\"text-align: right;\">\n",
              "      <th></th>\n",
              "      <th>itemA</th>\n",
              "      <th>itemB</th>\n",
              "      <th>freqAB</th>\n",
              "      <th>supportAB</th>\n",
              "      <th>freqA</th>\n",
              "      <th>supportA</th>\n",
              "      <th>freqB</th>\n",
              "      <th>supportB</th>\n",
              "      <th>confidenceAtoB</th>\n",
              "      <th>confidenceBtoA</th>\n",
              "      <th>lift</th>\n",
              "    </tr>\n",
              "  </thead>\n",
              "  <tbody>\n",
              "    <tr>\n",
              "      <th>0</th>\n",
              "      <td>Organic Strawberry Chia Lowfat 2% Cottage Cheese</td>\n",
              "      <td>Organic Cottage Cheese Blueberry Acai Chia</td>\n",
              "      <td>306</td>\n",
              "      <td>0.010155</td>\n",
              "      <td>1163</td>\n",
              "      <td>0.038595</td>\n",
              "      <td>839</td>\n",
              "      <td>0.027843</td>\n",
              "      <td>0.263113</td>\n",
              "      <td>0.364720</td>\n",
              "      <td>9.449868</td>\n",
              "    </tr>\n",
              "    <tr>\n",
              "      <th>1</th>\n",
              "      <td>Grain Free Chicken Formula Cat Food</td>\n",
              "      <td>Grain Free Turkey Formula Cat Food</td>\n",
              "      <td>318</td>\n",
              "      <td>0.010553</td>\n",
              "      <td>1809</td>\n",
              "      <td>0.060033</td>\n",
              "      <td>879</td>\n",
              "      <td>0.029170</td>\n",
              "      <td>0.175788</td>\n",
              "      <td>0.361775</td>\n",
              "      <td>6.026229</td>\n",
              "    </tr>\n",
              "    <tr>\n",
              "      <th>3</th>\n",
              "      <td>Organic Fruit Yogurt Smoothie Mixed Berry</td>\n",
              "      <td>Apple Blueberry Fruit Yogurt Smoothie</td>\n",
              "      <td>349</td>\n",
              "      <td>0.011582</td>\n",
              "      <td>1518</td>\n",
              "      <td>0.050376</td>\n",
              "      <td>1249</td>\n",
              "      <td>0.041449</td>\n",
              "      <td>0.229908</td>\n",
              "      <td>0.279424</td>\n",
              "      <td>5.546732</td>\n",
              "    </tr>\n",
              "    <tr>\n",
              "      <th>9</th>\n",
              "      <td>Nonfat Strawberry With Fruit On The Bottom Gre...</td>\n",
              "      <td>0% Greek, Blueberry on the Bottom Yogurt</td>\n",
              "      <td>409</td>\n",
              "      <td>0.013573</td>\n",
              "      <td>1666</td>\n",
              "      <td>0.055288</td>\n",
              "      <td>1391</td>\n",
              "      <td>0.046162</td>\n",
              "      <td>0.245498</td>\n",
              "      <td>0.294033</td>\n",
              "      <td>5.318230</td>\n",
              "    </tr>\n",
              "    <tr>\n",
              "      <th>10</th>\n",
              "      <td>Organic Grapefruit Ginger Sparkling Yerba Mate</td>\n",
              "      <td>Cranberry Pomegranate Sparkling Yerba Mate</td>\n",
              "      <td>351</td>\n",
              "      <td>0.011648</td>\n",
              "      <td>1731</td>\n",
              "      <td>0.057445</td>\n",
              "      <td>1149</td>\n",
              "      <td>0.038131</td>\n",
              "      <td>0.202773</td>\n",
              "      <td>0.305483</td>\n",
              "      <td>5.317849</td>\n",
              "    </tr>\n",
              "    <tr>\n",
              "      <th>...</th>\n",
              "      <td>...</td>\n",
              "      <td>...</td>\n",
              "      <td>...</td>\n",
              "      <td>...</td>\n",
              "      <td>...</td>\n",
              "      <td>...</td>\n",
              "      <td>...</td>\n",
              "      <td>...</td>\n",
              "      <td>...</td>\n",
              "      <td>...</td>\n",
              "      <td>...</td>\n",
              "    </tr>\n",
              "    <tr>\n",
              "      <th>7271</th>\n",
              "      <td>Organic Strawberries</td>\n",
              "      <td>Strawberries</td>\n",
              "      <td>640</td>\n",
              "      <td>0.021239</td>\n",
              "      <td>263416</td>\n",
              "      <td>8.741706</td>\n",
              "      <td>141805</td>\n",
              "      <td>4.705931</td>\n",
              "      <td>0.002430</td>\n",
              "      <td>0.004513</td>\n",
              "      <td>0.000516</td>\n",
              "    </tr>\n",
              "    <tr>\n",
              "      <th>6763</th>\n",
              "      <td>Organic Hass Avocado</td>\n",
              "      <td>Organic Avocado</td>\n",
              "      <td>464</td>\n",
              "      <td>0.015398</td>\n",
              "      <td>212785</td>\n",
              "      <td>7.061469</td>\n",
              "      <td>176241</td>\n",
              "      <td>5.848722</td>\n",
              "      <td>0.002181</td>\n",
              "      <td>0.002633</td>\n",
              "      <td>0.000373</td>\n",
              "    </tr>\n",
              "    <tr>\n",
              "      <th>4387</th>\n",
              "      <td>Organic Avocado</td>\n",
              "      <td>Organic Hass Avocado</td>\n",
              "      <td>443</td>\n",
              "      <td>0.014701</td>\n",
              "      <td>176241</td>\n",
              "      <td>5.848722</td>\n",
              "      <td>212785</td>\n",
              "      <td>7.061469</td>\n",
              "      <td>0.002514</td>\n",
              "      <td>0.002082</td>\n",
              "      <td>0.000356</td>\n",
              "    </tr>\n",
              "    <tr>\n",
              "      <th>2596</th>\n",
              "      <td>Banana</td>\n",
              "      <td>Bag of Organic Bananas</td>\n",
              "      <td>654</td>\n",
              "      <td>0.021704</td>\n",
              "      <td>470096</td>\n",
              "      <td>15.600574</td>\n",
              "      <td>376367</td>\n",
              "      <td>12.490090</td>\n",
              "      <td>0.001391</td>\n",
              "      <td>0.001738</td>\n",
              "      <td>0.000111</td>\n",
              "    </tr>\n",
              "    <tr>\n",
              "      <th>670</th>\n",
              "      <td>Bag of Organic Bananas</td>\n",
              "      <td>Banana</td>\n",
              "      <td>522</td>\n",
              "      <td>0.017323</td>\n",
              "      <td>376367</td>\n",
              "      <td>12.490090</td>\n",
              "      <td>470096</td>\n",
              "      <td>15.600574</td>\n",
              "      <td>0.001387</td>\n",
              "      <td>0.001110</td>\n",
              "      <td>0.000089</td>\n",
              "    </tr>\n",
              "  </tbody>\n",
              "</table>\n",
              "<p>48751 rows × 11 columns</p>\n",
              "</div>"
            ],
            "text/plain": [
              "                                                  itemA  ...      lift\n",
              "0      Organic Strawberry Chia Lowfat 2% Cottage Cheese  ...  9.449868\n",
              "1                   Grain Free Chicken Formula Cat Food  ...  6.026229\n",
              "3             Organic Fruit Yogurt Smoothie Mixed Berry  ...  5.546732\n",
              "9     Nonfat Strawberry With Fruit On The Bottom Gre...  ...  5.318230\n",
              "10       Organic Grapefruit Ginger Sparkling Yerba Mate  ...  5.317849\n",
              "...                                                 ...  ...       ...\n",
              "7271                               Organic Strawberries  ...  0.000516\n",
              "6763                               Organic Hass Avocado  ...  0.000373\n",
              "4387                                    Organic Avocado  ...  0.000356\n",
              "2596                                             Banana  ...  0.000111\n",
              "670                              Bag of Organic Bananas  ...  0.000089\n",
              "\n",
              "[48751 rows x 11 columns]"
            ]
          },
          "metadata": {
            "tags": []
          }
        }
      ]
    },
    {
      "cell_type": "markdown",
      "metadata": {
        "id": "H8EFpJPQvhJE"
      },
      "source": [
        "## What does this code do?"
      ]
    },
    {
      "cell_type": "markdown",
      "metadata": {
        "id": "ErKr1JtOvqEK"
      },
      "source": [
        "The code begins by calculating the frequency and support for all of theitem pairs generated in the previous cells.  \n",
        "\n",
        "Next, the item pairs frequencies and supports are calculated. Afterwards, the data is filtered to only show orders above the minimum support and at least 2 items.  \n",
        "\n",
        "Finally, a table is created with the association rules displayed, including the frequencies, support calculations and lift values.\n",
        "\n",
        "Calculated values:\n",
        "\n",
        "\n",
        "*   Confidence: Given items A and B, measures the percentage of times that item B is purchased when A was purchased.\n",
        "*   Support: The percentage of orders that contain the item set\n",
        "*   Lift: Given the 2 items A and B, this indicates wether there is a relationship between both items or if they are in the same orders by chance.\n",
        "\n"
      ]
    },
    {
      "cell_type": "markdown",
      "metadata": {
        "id": "yGHDUG18yhyH"
      },
      "source": [
        "## Is it possible to mine emerging patterns?\n",
        "\n",
        "It is possible to mine emerging patterns by creating a subset of the orders and evaluating the frequency of the entire dataset of patterns to find any insights."
      ]
    },
    {
      "cell_type": "markdown",
      "metadata": {
        "id": "sQC9eeI5yhgG"
      },
      "source": [
        "## Is it possible to mine sky patterns?\n",
        "It is possible to mine patterns by evaluating the patterns with the biggest frecuencies and  highest confidence or lift values, which are calculations based on the confidence values and whose values > 1 indicate a positive relationship between the patterns."
      ]
    },
    {
      "cell_type": "code",
      "metadata": {
        "id": "HVwL4Rak4Lu8"
      },
      "source": [
        ""
      ],
      "execution_count": null,
      "outputs": []
    }
  ]
}